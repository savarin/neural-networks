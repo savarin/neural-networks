{
 "cells": [
  {
   "cell_type": "markdown",
   "metadata": {},
   "source": [
    "# Section 1-1 - Basic Neural Network - Titanic"
   ]
  },
  {
   "cell_type": "markdown",
   "metadata": {},
   "source": [
    "In the previous section, we simply iterated through randomly-generated matrices and chose the best-performing one. We build on this approach by reducing loss in a systematic way via stochastic gradient descent. In particular, we'll be using TensorFlow, an open source library developed by Google, and Keras, a high-level wrapper on top of TensorFlow."
   ]
  },
  {
   "cell_type": "code",
   "execution_count": 1,
   "metadata": {},
   "outputs": [],
   "source": [
    "import numpy as np\n",
    "import pandas as pd\n",
    "from sklearn.preprocessing import StandardScaler\n",
    "from time import time\n",
    "\n",
    "np.random.seed(1337)\n",
    "\n",
    "df = pd.read_csv('data/titanic.csv')"
   ]
  },
  {
   "cell_type": "code",
   "execution_count": 2,
   "metadata": {},
   "outputs": [],
   "source": [
    "df_train = df.iloc[:712, :]\n",
    "\n",
    "scaler = StandardScaler()\n",
    "features = ['Class', 'Sex', 'Age', 'Fare']\n",
    "\n",
    "X_train = scaler.fit_transform(df_train[features].values)\n",
    "y_train = df_train['Survived'].values\n",
    "y_train_onehot = pd.get_dummies(df_train['Survived']).values"
   ]
  },
  {
   "cell_type": "code",
   "execution_count": 3,
   "metadata": {},
   "outputs": [],
   "source": [
    "df_test = df.iloc[712:, :]\n",
    "\n",
    "X_test = scaler.transform(df_test[features].values)\n",
    "y_test = df_test['Survived'].values"
   ]
  },
  {
   "cell_type": "markdown",
   "metadata": {},
   "source": [
    "## Benchmark"
   ]
  },
  {
   "cell_type": "code",
   "execution_count": 4,
   "metadata": {},
   "outputs": [
    {
     "name": "stdout",
     "output_type": "stream",
     "text": [
      "building tree 1 of 100\n",
      "building tree 2 of 100\n",
      "building tree 3 of 100\n",
      "building tree 4 of 100\n",
      "building tree 5 of 100\n",
      "building tree 6 of 100\n",
      "building tree 7 of 100\n",
      "building tree 8 of 100\n",
      "building tree 9 of 100\n",
      "building tree 10 of 100\n",
      "building tree 11 of 100\n",
      "building tree 12 of 100\n",
      "building tree 13 of 100\n",
      "building tree 14 of 100\n",
      "building tree 15 of 100\n",
      "building tree 16 of 100\n",
      "building tree 17 of 100\n",
      "building tree 18 of 100\n",
      "building tree 19 of 100\n",
      "building tree 20 of 100\n",
      "building tree 21 of 100\n",
      "building tree 22 of 100\n",
      "building tree 23 of 100\n",
      "building tree 24 of 100\n",
      "building tree 25 of 100\n",
      "building tree 26 of 100\n",
      "building tree 27 of 100\n",
      "building tree 28 of 100\n",
      "building tree 29 of 100\n",
      "building tree 30 of 100\n",
      "building tree 31 of 100\n",
      "building tree 32 of 100\n",
      "building tree 33 of 100\n",
      "building tree 34 of 100\n",
      "building tree 35 of 100\n",
      "building tree 36 of 100\n",
      "building tree 37 of 100\n",
      "building tree 38 of 100\n",
      "building tree 39 of 100\n",
      "building tree 40 of 100\n",
      "building tree 41 of 100\n",
      "building tree 42 of 100\n",
      "building tree 43 of 100\n",
      "building tree 44 of 100\n",
      "building tree 45 of 100\n",
      "building tree 46 of 100\n",
      "building tree 47 of 100\n",
      "building tree 48 of 100\n",
      "building tree 49 of 100\n",
      "building tree 50 of 100\n",
      "building tree 51 of 100\n",
      "building tree 52 of 100\n",
      "building tree 53 of 100\n",
      "building tree 54 of 100\n",
      "building tree 55 of 100\n",
      "building tree 56 of 100\n",
      "building tree 57 of 100\n",
      "building tree 58 of 100\n",
      "building tree 59 of 100\n",
      "building tree 60 of 100\n",
      "building tree 61 of 100\n",
      "building tree 62 of 100\n",
      "building tree 63 of 100\n",
      "building tree 64 of 100\n",
      "building tree 65 of 100\n",
      "building tree 66 of 100\n",
      "building tree 67 of 100\n",
      "building tree 68 of 100\n",
      "building tree 69 of 100\n",
      "building tree 70 of 100\n",
      "building tree 71 of 100\n",
      "building tree 72 of 100\n",
      "building tree 73 of 100\n",
      "building tree 74 of 100\n",
      "building tree 75 of 100\n",
      "building tree 76 of 100\n",
      "building tree 77 of 100\n",
      "building tree 78 of 100\n",
      "building tree 79 of 100\n",
      "building tree 80 of 100\n",
      "building tree 81 of 100\n",
      "building tree 82 of 100\n",
      "building tree 83 of 100\n",
      "building tree 84 of 100\n",
      "building tree 85 of 100\n",
      "building tree 86 of 100\n",
      "building tree 87 of 100\n",
      "building tree 88 of 100\n",
      "building tree 89 of 100\n",
      "building tree 90 of 100\n",
      "building tree 91 of 100\n",
      "building tree 92 of 100\n",
      "building tree 93 of 100\n",
      "building tree 94 of 100\n",
      "building tree 95 of 100\n",
      "building tree 96 of 100\n",
      "building tree 97 of 100\n",
      "building tree 98 of 100\n",
      "building tree 99 of 100\n",
      "building tree 100 of 100\n",
      "\n",
      "accuracy 0.8324022346368715\n"
     ]
    },
    {
     "name": "stderr",
     "output_type": "stream",
     "text": [
      "[Parallel(n_jobs=1)]: Using backend SequentialBackend with 1 concurrent workers.\n",
      "[Parallel(n_jobs=1)]: Done   1 out of   1 | elapsed:    0.0s remaining:    0.0s\n",
      "[Parallel(n_jobs=1)]: Done   2 out of   2 | elapsed:    0.0s remaining:    0.0s\n",
      "[Parallel(n_jobs=1)]: Done 100 out of 100 | elapsed:    0.1s finished\n",
      "[Parallel(n_jobs=1)]: Using backend SequentialBackend with 1 concurrent workers.\n",
      "[Parallel(n_jobs=1)]: Done   1 out of   1 | elapsed:    0.0s remaining:    0.0s\n",
      "[Parallel(n_jobs=1)]: Done   2 out of   2 | elapsed:    0.0s remaining:    0.0s\n",
      "[Parallel(n_jobs=1)]: Done 100 out of 100 | elapsed:    0.0s finished\n"
     ]
    }
   ],
   "source": [
    "from sklearn.ensemble import RandomForestClassifier\n",
    "\n",
    "model = RandomForestClassifier(random_state=0, verbose=3)\n",
    "model = model.fit(X_train, df_train['Survived'].values)\n",
    "\n",
    "y_prediction = model.predict(X_test)\n",
    "print(\"\\naccuracy\", np.sum(y_prediction == y_test) / float(len(y_test)))"
   ]
  },
  {
   "cell_type": "markdown",
   "metadata": {},
   "source": [
    "## 1-layer Neural Network"
   ]
  },
  {
   "cell_type": "markdown",
   "metadata": {},
   "source": [
    "Instead of generating a linear stack of layers with Numpy, we'll be implementing our model using Keras. We initialize our model, add a layer that inputs vectors of length 4 and outputs vectors of length 2, and finally add a softmax layer. We configure the learning process in the compilation step by specifying the optimizer, loss function and performance metric.\n",
    "\n",
    "Stochastic gradient descent acts by changing the weights gradually in the 'direction' that decreases the average loss. In other words, a particular weight would be increased if acts to decrease loss, or the weight decreased if it acts to increase loss. TensorFlow does the heavy-lifting by efficiently handling these numerical computations under the hood. A simple example of stochastic gradient descent is illustrated in the Appendix."
   ]
  },
  {
   "cell_type": "code",
   "execution_count": 5,
   "metadata": {},
   "outputs": [
    {
     "name": "stderr",
     "output_type": "stream",
     "text": [
      "2023-03-24 10:35:29.824060: I tensorflow/core/platform/cpu_feature_guard.cc:182] This TensorFlow binary is optimized to use available CPU instructions in performance-critical operations.\n",
      "To enable the following instructions: AVX2 FMA, in other operations, rebuild TensorFlow with the appropriate compiler flags.\n"
     ]
    },
    {
     "name": "stdout",
     "output_type": "stream",
     "text": [
      "Epoch 1/12\n",
      "23/23 [==============================] - 0s 884us/step - loss: 1.4785 - accuracy: 0.2640\n",
      "Epoch 2/12\n",
      "23/23 [==============================] - 0s 828us/step - loss: 1.3076 - accuracy: 0.3006\n",
      "Epoch 3/12\n",
      "23/23 [==============================] - 0s 764us/step - loss: 1.1619 - accuracy: 0.3329\n",
      "Epoch 4/12\n",
      "23/23 [==============================] - 0s 841us/step - loss: 1.0360 - accuracy: 0.3624\n",
      "Epoch 5/12\n",
      "23/23 [==============================] - 0s 835us/step - loss: 0.9274 - accuracy: 0.4396\n",
      "Epoch 6/12\n",
      "23/23 [==============================] - 0s 797us/step - loss: 0.8380 - accuracy: 0.5183\n",
      "Epoch 7/12\n",
      "23/23 [==============================] - 0s 935us/step - loss: 0.7617 - accuracy: 0.5674\n",
      "Epoch 8/12\n",
      "23/23 [==============================] - 0s 873us/step - loss: 0.7028 - accuracy: 0.6110\n",
      "Epoch 9/12\n",
      "23/23 [==============================] - 0s 869us/step - loss: 0.6543 - accuracy: 0.6531\n",
      "Epoch 10/12\n",
      "23/23 [==============================] - 0s 848us/step - loss: 0.6172 - accuracy: 0.6910\n",
      "Epoch 11/12\n",
      "23/23 [==============================] - 0s 838us/step - loss: 0.5871 - accuracy: 0.7022\n",
      "Epoch 12/12\n",
      "23/23 [==============================] - 0s 849us/step - loss: 0.5624 - accuracy: 0.7191\n",
      "Model: \"sequential\"\n",
      "_________________________________________________________________\n",
      " Layer (type)                Output Shape              Param #   \n",
      "=================================================================\n",
      " dense (Dense)               (None, 2)                 10        \n",
      "                                                                 \n",
      " activation (Activation)     (None, 2)                 0         \n",
      "                                                                 \n",
      "=================================================================\n",
      "Total params: 10\n",
      "Trainable params: 10\n",
      "Non-trainable params: 0\n",
      "_________________________________________________________________\n",
      "\n",
      "time taken 0.6145882606506348 seconds\n"
     ]
    }
   ],
   "source": [
    "from keras.models import Sequential\n",
    "from keras.layers import Dense, Activation\n",
    "\n",
    "start = time()\n",
    "\n",
    "model = Sequential()\n",
    "model.add(Dense(2))\n",
    "model.add(Activation(\"softmax\"))\n",
    "\n",
    "model.compile(loss='categorical_crossentropy', optimizer='sgd', metrics=['accuracy'])\n",
    "\n",
    "model.fit(X_train, y_train_onehot, epochs=12)\n",
    "\n",
    "model.summary()\n",
    "\n",
    "print('\\ntime taken %s seconds' % str(time() - start))"
   ]
  },
  {
   "cell_type": "code",
   "execution_count": 6,
   "metadata": {},
   "outputs": [
    {
     "name": "stdout",
     "output_type": "stream",
     "text": [
      "6/6 [==============================] - 0s 870us/step\n",
      "\n",
      "accuracy 0.776536312849162\n"
     ]
    }
   ],
   "source": [
    "y_prediction = np.argmax(model.predict(X_test), axis=-1)\n",
    "print(\"\\naccuracy\", np.sum(y_prediction == y_test) / float(len(y_test)))"
   ]
  },
  {
   "cell_type": "markdown",
   "metadata": {},
   "source": [
    "We notice that the loss reduces systematically as the model 'learns' from the data. The rate of loss reduction, however, seems to indicate that loss could be further reduced."
   ]
  },
  {
   "cell_type": "markdown",
   "metadata": {},
   "source": [
    "## 2-layer Neural Network"
   ]
  },
  {
   "cell_type": "code",
   "execution_count": 7,
   "metadata": {},
   "outputs": [
    {
     "name": "stdout",
     "output_type": "stream",
     "text": [
      "Epoch 1/12\n",
      "23/23 [==============================] - 0s 921us/step - loss: 0.6226 - accuracy: 0.7388\n",
      "Epoch 2/12\n",
      "23/23 [==============================] - 0s 914us/step - loss: 0.5424 - accuracy: 0.7823\n",
      "Epoch 3/12\n",
      "23/23 [==============================] - 0s 910us/step - loss: 0.5081 - accuracy: 0.7795\n",
      "Epoch 4/12\n",
      "23/23 [==============================] - 0s 935us/step - loss: 0.4903 - accuracy: 0.7767\n",
      "Epoch 5/12\n",
      "23/23 [==============================] - 0s 925us/step - loss: 0.4817 - accuracy: 0.7753\n",
      "Epoch 6/12\n",
      "23/23 [==============================] - 0s 945us/step - loss: 0.4760 - accuracy: 0.7767\n",
      "Epoch 7/12\n",
      "23/23 [==============================] - 0s 951us/step - loss: 0.4731 - accuracy: 0.7767\n",
      "Epoch 8/12\n",
      "23/23 [==============================] - 0s 955us/step - loss: 0.4709 - accuracy: 0.7781\n",
      "Epoch 9/12\n",
      "23/23 [==============================] - 0s 955us/step - loss: 0.4690 - accuracy: 0.7781\n",
      "Epoch 10/12\n",
      "23/23 [==============================] - 0s 912us/step - loss: 0.4678 - accuracy: 0.7781\n",
      "Epoch 11/12\n",
      "23/23 [==============================] - 0s 947us/step - loss: 0.4670 - accuracy: 0.7781\n",
      "Epoch 12/12\n",
      "23/23 [==============================] - 0s 920us/step - loss: 0.4662 - accuracy: 0.7781\n",
      "Model: \"sequential_1\"\n",
      "_________________________________________________________________\n",
      " Layer (type)                Output Shape              Param #   \n",
      "=================================================================\n",
      " dense_1 (Dense)             (None, 100)               500       \n",
      "                                                                 \n",
      " dense_2 (Dense)             (None, 2)                 202       \n",
      "                                                                 \n",
      " activation_1 (Activation)   (None, 2)                 0         \n",
      "                                                                 \n",
      "=================================================================\n",
      "Total params: 702\n",
      "Trainable params: 702\n",
      "Non-trainable params: 0\n",
      "_________________________________________________________________\n",
      "\n",
      "time taken 0.6059098243713379 seconds\n"
     ]
    }
   ],
   "source": [
    "start = time()\n",
    "\n",
    "model = Sequential()\n",
    "model.add(Dense(100))\n",
    "model.add(Dense(2))\n",
    "model.add(Activation(\"softmax\"))\n",
    "\n",
    "model.compile(loss='categorical_crossentropy', optimizer='sgd', metrics=['accuracy'])\n",
    "\n",
    "model.fit(X_train, y_train_onehot, epochs=12)\n",
    "\n",
    "model.summary()\n",
    "\n",
    "print('\\ntime taken %s seconds' % str(time() - start))"
   ]
  },
  {
   "cell_type": "code",
   "execution_count": 8,
   "metadata": {},
   "outputs": [
    {
     "name": "stdout",
     "output_type": "stream",
     "text": [
      "6/6 [==============================] - 0s 913us/step\n",
      "\n",
      "accuracy 0.8100558659217877\n"
     ]
    }
   ],
   "source": [
    "y_prediction = np.argmax(model.predict(X_test), axis=-1)\n",
    "print(\"\\naccuracy\", np.sum(y_prediction == y_test) / float(len(y_test)))"
   ]
  },
  {
   "cell_type": "markdown",
   "metadata": {},
   "source": [
    "The loss reduction 'flattens out' more compared to the 1-layer example, and the accuracy improves to 80%."
   ]
  },
  {
   "cell_type": "markdown",
   "metadata": {},
   "source": [
    "## 3-layer Neural Network"
   ]
  },
  {
   "cell_type": "code",
   "execution_count": 9,
   "metadata": {},
   "outputs": [
    {
     "name": "stdout",
     "output_type": "stream",
     "text": [
      "Epoch 1/12\n",
      "23/23 [==============================] - 0s 1ms/step - loss: 0.5475 - accuracy: 0.7346\n",
      "Epoch 2/12\n",
      "23/23 [==============================] - 0s 989us/step - loss: 0.4941 - accuracy: 0.7725\n",
      "Epoch 3/12\n",
      "23/23 [==============================] - 0s 1ms/step - loss: 0.4781 - accuracy: 0.7725\n",
      "Epoch 4/12\n",
      "23/23 [==============================] - 0s 946us/step - loss: 0.4724 - accuracy: 0.7767\n",
      "Epoch 5/12\n",
      "23/23 [==============================] - 0s 951us/step - loss: 0.4693 - accuracy: 0.7767\n",
      "Epoch 6/12\n",
      "23/23 [==============================] - 0s 946us/step - loss: 0.4675 - accuracy: 0.7795\n",
      "Epoch 7/12\n",
      "23/23 [==============================] - 0s 952us/step - loss: 0.4660 - accuracy: 0.7809\n",
      "Epoch 8/12\n",
      "23/23 [==============================] - 0s 1ms/step - loss: 0.4653 - accuracy: 0.7851\n",
      "Epoch 9/12\n",
      "23/23 [==============================] - 0s 965us/step - loss: 0.4654 - accuracy: 0.7809\n",
      "Epoch 10/12\n",
      "23/23 [==============================] - 0s 1ms/step - loss: 0.4650 - accuracy: 0.7837\n",
      "Epoch 11/12\n",
      "23/23 [==============================] - 0s 987us/step - loss: 0.4645 - accuracy: 0.7865\n",
      "Epoch 12/12\n",
      "23/23 [==============================] - 0s 1ms/step - loss: 0.4646 - accuracy: 0.7851\n",
      "Model: \"sequential_2\"\n",
      "_________________________________________________________________\n",
      " Layer (type)                Output Shape              Param #   \n",
      "=================================================================\n",
      " dense_3 (Dense)             (None, 100)               500       \n",
      "                                                                 \n",
      " dense_4 (Dense)             (None, 100)               10100     \n",
      "                                                                 \n",
      " dense_5 (Dense)             (None, 2)                 202       \n",
      "                                                                 \n",
      " activation_2 (Activation)   (None, 2)                 0         \n",
      "                                                                 \n",
      "=================================================================\n",
      "Total params: 10,802\n",
      "Trainable params: 10,802\n",
      "Non-trainable params: 0\n",
      "_________________________________________________________________\n",
      "\n",
      "time taken 0.6536471843719482 seconds\n"
     ]
    }
   ],
   "source": [
    "start = time()\n",
    "\n",
    "model = Sequential()\n",
    "model.add(Dense(100))\n",
    "model.add(Dense(100))\n",
    "model.add(Dense(2))\n",
    "model.add(Activation(\"softmax\"))\n",
    "\n",
    "model.compile(loss='categorical_crossentropy', optimizer='sgd', metrics=['accuracy'])\n",
    "\n",
    "model.fit(X_train, y_train_onehot, epochs=12)\n",
    "\n",
    "model.summary()\n",
    "\n",
    "print('\\ntime taken %s seconds' % str(time() - start))"
   ]
  },
  {
   "cell_type": "code",
   "execution_count": 10,
   "metadata": {},
   "outputs": [
    {
     "name": "stdout",
     "output_type": "stream",
     "text": [
      "6/6 [==============================] - 0s 968us/step\n",
      "\n",
      "accuracy 0.8044692737430168\n"
     ]
    }
   ],
   "source": [
    "y_prediction = np.argmax(model.predict(X_test), axis=-1)\n",
    "print(\"\\naccuracy\", np.sum(y_prediction == y_test) / float(len(y_test)))"
   ]
  },
  {
   "cell_type": "markdown",
   "metadata": {},
   "source": [
    "We're not able to reduce loss on the training that much further; the best performance obtained does not beat the benchmark. Since the dataset is small, there isn't as much for the model to 'learn' from (or for that matter, predict on). We'll apply techniques developed so far on a much larger dataset in the next section."
   ]
  }
 ],
 "metadata": {
  "kernelspec": {
   "display_name": "Python 3 (ipykernel)",
   "language": "python",
   "name": "python3"
  },
  "language_info": {
   "codemirror_mode": {
    "name": "ipython",
    "version": 3
   },
   "file_extension": ".py",
   "mimetype": "text/x-python",
   "name": "python",
   "nbconvert_exporter": "python",
   "pygments_lexer": "ipython3",
   "version": "3.11.1"
  }
 },
 "nbformat": 4,
 "nbformat_minor": 4
}

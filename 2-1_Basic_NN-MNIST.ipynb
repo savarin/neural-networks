{
 "cells": [
  {
   "cell_type": "markdown",
   "metadata": {},
   "source": [
    "# Section 2-1 - Basic Neural Network - MNIST"
   ]
  },
  {
   "cell_type": "markdown",
   "metadata": {},
   "source": [
    "In this section, we'll apply techniques developed so far on the MNIST dataset. The MNIST dataset consists of hand-drawn digits from zero to nine. Each image is 28 pixels in height and 28 pixels in width, with the pixel value an integer between 0 and 255."
   ]
  },
  {
   "cell_type": "code",
   "execution_count": 1,
   "metadata": {},
   "outputs": [],
   "source": [
    "import numpy as np\n",
    "import pandas as pd\n",
    "from sklearn.preprocessing import StandardScaler\n",
    "from time import time\n",
    "\n",
    "np.random.seed(1337)\n",
    "\n",
    "df = pd.read_csv('data/mnist.csv')"
   ]
  },
  {
   "cell_type": "markdown",
   "metadata": {},
   "source": [
    "For illustrative purposes, the first example is shown with pixel values between 0 and 10."
   ]
  },
  {
   "cell_type": "code",
   "execution_count": 2,
   "metadata": {},
   "outputs": [
    {
     "name": "stdout",
     "output_type": "stream",
     "text": [
      "[0,0,0,0,0,0,0,0,0,0,0,0,0,0,0,0,0,0,0,0,0,0,0,0,0,0,0,0]\n",
      "[0,0,0,0,0,0,0,0,0,0,0,0,0,0,0,0,0,0,0,0,0,0,0,0,0,0,0,0]\n",
      "[0,0,0,0,0,0,0,0,0,0,0,0,0,0,0,0,0,0,0,0,0,0,0,0,0,0,0,0]\n",
      "[0,0,0,0,0,0,0,0,0,0,0,0,0,0,0,0,0,0,0,0,0,0,0,0,0,0,0,0]\n",
      "[0,0,0,0,0,0,0,0,0,0,0,0,0,0,0,0,0,0,0,0,7,9,3,0,0,0,0,0]\n",
      "[0,0,0,0,0,0,0,0,0,0,0,0,0,0,0,0,0,0,0,7,9,9,3,0,0,0,0,0]\n",
      "[0,0,0,0,0,0,0,0,0,0,0,0,0,0,0,0,0,0,4,9,9,6,0,0,0,0,0,0]\n",
      "[0,0,0,0,0,0,0,0,0,0,0,0,0,0,0,0,0,3,9,9,8,0,0,0,0,0,0,0]\n",
      "[0,0,0,0,0,0,0,0,0,0,0,0,0,0,0,0,1,7,9,9,2,0,0,0,0,0,0,0]\n",
      "[0,0,0,0,0,0,0,0,0,0,0,0,0,0,0,2,8,9,9,3,0,0,0,0,0,0,0,0]\n",
      "[0,0,0,0,0,0,0,0,0,0,0,0,0,0,3,9,9,9,6,0,0,0,0,0,0,0,0,0]\n",
      "[0,0,0,0,0,0,0,0,0,0,0,0,0,0,8,9,9,6,0,0,0,0,0,0,0,0,0,0]\n",
      "[0,0,0,0,0,0,0,0,0,0,0,0,0,8,9,9,9,3,0,0,0,0,0,0,0,0,0,0]\n",
      "[0,0,0,0,0,0,0,0,0,0,0,0,1,9,9,9,0,0,0,0,0,0,0,0,0,0,0,0]\n",
      "[0,0,0,0,0,0,0,0,0,0,0,0,7,9,9,7,0,0,0,0,0,0,0,0,0,0,0,0]\n",
      "[0,0,0,0,0,0,0,0,0,0,0,6,9,9,7,0,0,0,0,0,0,0,0,0,0,0,0,0]\n",
      "[0,0,0,0,0,0,0,0,0,0,0,7,9,9,2,0,0,0,0,0,0,0,0,0,0,0,0,0]\n",
      "[0,0,0,0,0,0,0,0,0,0,7,9,9,3,0,0,0,0,0,0,0,0,0,0,0,0,0,0]\n",
      "[0,0,0,0,0,0,0,0,0,3,9,9,7,0,0,0,0,0,0,0,0,0,0,0,0,0,0,0]\n",
      "[0,0,0,0,0,0,0,0,3,9,9,7,0,0,0,0,0,0,0,0,0,0,0,0,0,0,0,0]\n",
      "[0,0,0,0,0,0,0,0,8,9,9,3,0,0,0,0,0,0,0,0,0,0,0,0,0,0,0,0]\n",
      "[0,0,0,0,0,0,0,3,9,9,9,3,0,0,0,0,0,0,0,0,0,0,0,0,0,0,0,0]\n",
      "[0,0,0,0,0,0,0,3,9,9,9,5,0,0,0,0,0,0,0,0,0,0,0,0,0,0,0,0]\n",
      "[0,0,0,0,0,0,0,0,8,8,3,0,0,0,0,0,0,0,0,0,0,0,0,0,0,0,0,0]\n",
      "[0,0,0,0,0,0,0,0,0,0,0,0,0,0,0,0,0,0,0,0,0,0,0,0,0,0,0,0]\n",
      "[0,0,0,0,0,0,0,0,0,0,0,0,0,0,0,0,0,0,0,0,0,0,0,0,0,0,0,0]\n",
      "[0,0,0,0,0,0,0,0,0,0,0,0,0,0,0,0,0,0,0,0,0,0,0,0,0,0,0,0]\n",
      "[0,0,0,0,0,0,0,0,0,0,0,0,0,0,0,0,0,0,0,0,0,0,0,0,0,0,0,0]\n"
     ]
    }
   ],
   "source": [
    "for item in df.iloc[0, 1:].values.reshape(28,28)/26:\n",
    "    print(''.join(str([int(term) for term in item]).split(' ')))"
   ]
  },
  {
   "cell_type": "markdown",
   "metadata": {},
   "source": [
    "A hand-drawn 1 can clearly be seen from the visualization in grayscale."
   ]
  },
  {
   "cell_type": "code",
   "execution_count": 3,
   "metadata": {},
   "outputs": [
    {
     "data": {
      "image/png": "[encoded data removed]",
      "text/plain": [
       "<Figure size 640x480 with 1 Axes>"
      ]
     },
     "metadata": {},
     "output_type": "display_data"
    }
   ],
   "source": [
    "%matplotlib inline\n",
    "\n",
    "import matplotlib.pyplot as plt\n",
    "\n",
    "plt.imshow(df.iloc[0, 1:].values.reshape(28,28), cmap=plt.get_cmap('gray', 5))\n",
    "plt.show()"
   ]
  },
  {
   "cell_type": "markdown",
   "metadata": {},
   "source": [
    "There are 42,000 images. We similarly split the images 80:20 into training and test sets, and scale the data through division by 255. "
   ]
  },
  {
   "cell_type": "code",
   "execution_count": 4,
   "metadata": {},
   "outputs": [],
   "source": [
    "df_train = df.iloc[:33600, :]\n",
    "\n",
    "X_train = df_train.iloc[:, 1:].values / 255.\n",
    "y_train = df_train['label'].values\n",
    "y_train_onehot = pd.get_dummies(df_train['label']).values"
   ]
  },
  {
   "cell_type": "code",
   "execution_count": 5,
   "metadata": {},
   "outputs": [],
   "source": [
    "df_test = df.iloc[33600:, :]\n",
    "\n",
    "X_test = df_test.iloc[:, 1:].values / 255.\n",
    "y_test = df_test['label'].values"
   ]
  },
  {
   "cell_type": "markdown",
   "metadata": {},
   "source": [
    "## Benchmark"
   ]
  },
  {
   "cell_type": "code",
   "execution_count": 6,
   "metadata": {},
   "outputs": [
    {
     "name": "stderr",
     "output_type": "stream",
     "text": [
      "[Parallel(n_jobs=1)]: Using backend SequentialBackend with 1 concurrent workers.\n",
      "[Parallel(n_jobs=1)]: Done   1 out of   1 | elapsed:    0.2s remaining:    0.0s\n"
     ]
    },
    {
     "name": "stdout",
     "output_type": "stream",
     "text": [
      "building tree 1 of 100\n",
      "building tree 2 of 100\n"
     ]
    },
    {
     "name": "stderr",
     "output_type": "stream",
     "text": [
      "[Parallel(n_jobs=1)]: Done   2 out of   2 | elapsed:    0.4s remaining:    0.0s\n"
     ]
    },
    {
     "name": "stdout",
     "output_type": "stream",
     "text": [
      "building tree 3 of 100\n",
      "building tree 4 of 100\n",
      "building tree 5 of 100\n",
      "building tree 6 of 100\n",
      "building tree 7 of 100\n",
      "building tree 8 of 100\n",
      "building tree 9 of 100\n",
      "building tree 10 of 100\n",
      "building tree 11 of 100\n",
      "building tree 12 of 100\n",
      "building tree 13 of 100\n",
      "building tree 14 of 100\n",
      "building tree 15 of 100\n",
      "building tree 16 of 100\n",
      "building tree 17 of 100\n",
      "building tree 18 of 100\n",
      "building tree 19 of 100\n",
      "building tree 20 of 100\n",
      "building tree 21 of 100\n",
      "building tree 22 of 100\n",
      "building tree 23 of 100\n",
      "building tree 24 of 100\n",
      "building tree 25 of 100\n",
      "building tree 26 of 100\n",
      "building tree 27 of 100\n",
      "building tree 28 of 100\n",
      "building tree 29 of 100\n",
      "building tree 30 of 100\n",
      "building tree 31 of 100\n",
      "building tree 32 of 100\n",
      "building tree 33 of 100\n",
      "building tree 34 of 100\n",
      "building tree 35 of 100\n",
      "building tree 36 of 100\n",
      "building tree 37 of 100\n",
      "building tree 38 of 100\n",
      "building tree 39 of 100\n",
      "building tree 40 of 100\n",
      "building tree 41 of 100\n",
      "building tree 42 of 100\n",
      "building tree 43 of 100\n",
      "building tree 44 of 100\n",
      "building tree 45 of 100\n",
      "building tree 46 of 100\n",
      "building tree 47 of 100\n",
      "building tree 48 of 100\n",
      "building tree 49 of 100\n",
      "building tree 50 of 100\n",
      "building tree 51 of 100\n",
      "building tree 52 of 100\n",
      "building tree 53 of 100\n",
      "building tree 54 of 100\n",
      "building tree 55 of 100\n",
      "building tree 56 of 100\n",
      "building tree 57 of 100\n",
      "building tree 58 of 100\n",
      "building tree 59 of 100\n",
      "building tree 60 of 100\n",
      "building tree 61 of 100\n",
      "building tree 62 of 100\n",
      "building tree 63 of 100\n",
      "building tree 64 of 100\n",
      "building tree 65 of 100\n",
      "building tree 66 of 100\n",
      "building tree 67 of 100\n",
      "building tree 68 of 100\n",
      "building tree 69 of 100\n",
      "building tree 70 of 100\n",
      "building tree 71 of 100\n",
      "building tree 72 of 100\n",
      "building tree 73 of 100\n",
      "building tree 74 of 100\n",
      "building tree 75 of 100\n",
      "building tree 76 of 100\n",
      "building tree 77 of 100\n",
      "building tree 78 of 100\n",
      "building tree 79 of 100\n",
      "building tree 80 of 100\n",
      "building tree 81 of 100\n",
      "building tree 82 of 100\n",
      "building tree 83 of 100\n",
      "building tree 84 of 100\n",
      "building tree 85 of 100\n",
      "building tree 86 of 100\n",
      "building tree 87 of 100\n",
      "building tree 88 of 100\n",
      "building tree 89 of 100\n",
      "building tree 90 of 100\n",
      "building tree 91 of 100\n",
      "building tree 92 of 100\n",
      "building tree 93 of 100\n",
      "building tree 94 of 100\n",
      "building tree 95 of 100\n",
      "building tree 96 of 100\n",
      "building tree 97 of 100\n",
      "building tree 98 of 100\n",
      "building tree 99 of 100\n",
      "building tree 100 of 100\n"
     ]
    },
    {
     "name": "stderr",
     "output_type": "stream",
     "text": [
      "[Parallel(n_jobs=1)]: Done 100 out of 100 | elapsed:   19.2s finished\n",
      "[Parallel(n_jobs=1)]: Using backend SequentialBackend with 1 concurrent workers.\n",
      "[Parallel(n_jobs=1)]: Done   1 out of   1 | elapsed:    0.0s remaining:    0.0s\n",
      "[Parallel(n_jobs=1)]: Done   2 out of   2 | elapsed:    0.0s remaining:    0.0s\n"
     ]
    },
    {
     "name": "stdout",
     "output_type": "stream",
     "text": [
      "\n",
      "accuracy 0.965\n"
     ]
    },
    {
     "name": "stderr",
     "output_type": "stream",
     "text": [
      "[Parallel(n_jobs=1)]: Done 100 out of 100 | elapsed:    0.2s finished\n"
     ]
    }
   ],
   "source": [
    "from sklearn.ensemble import RandomForestClassifier\n",
    "\n",
    "model = RandomForestClassifier(random_state=0, verbose=3)\n",
    "model = model.fit(X_train, df_train['label'].values)\n",
    "\n",
    "y_prediction = model.predict(X_test)\n",
    "print(\"\\naccuracy\", np.sum(y_prediction == df_test['label'].values) / float(len(y_test)))"
   ]
  },
  {
   "cell_type": "markdown",
   "metadata": {},
   "source": [
    "## 1-layer Neural Network"
   ]
  },
  {
   "cell_type": "code",
   "execution_count": 7,
   "metadata": {},
   "outputs": [
    {
     "name": "stderr",
     "output_type": "stream",
     "text": [
      "2023-03-24 10:36:11.623274: I tensorflow/core/platform/cpu_feature_guard.cc:182] This TensorFlow binary is optimized to use available CPU instructions in performance-critical operations.\n",
      "To enable the following instructions: AVX2 FMA, in other operations, rebuild TensorFlow with the appropriate compiler flags.\n"
     ]
    },
    {
     "name": "stdout",
     "output_type": "stream",
     "text": [
      "Epoch 1/12\n",
      "1050/1050 [==============================] - 1s 738us/step - loss: 0.9533 - accuracy: 0.7783\n",
      "Epoch 2/12\n",
      "1050/1050 [==============================] - 1s 714us/step - loss: 0.5329 - accuracy: 0.8669\n",
      "Epoch 3/12\n",
      "1050/1050 [==============================] - 1s 708us/step - loss: 0.4576 - accuracy: 0.8801\n",
      "Epoch 4/12\n",
      "1050/1050 [==============================] - 1s 718us/step - loss: 0.4206 - accuracy: 0.8875\n",
      "Epoch 5/12\n",
      "1050/1050 [==============================] - 1s 714us/step - loss: 0.3972 - accuracy: 0.8918\n",
      "Epoch 6/12\n",
      "1050/1050 [==============================] - 1s 717us/step - loss: 0.3809 - accuracy: 0.8953\n",
      "Epoch 7/12\n",
      "1050/1050 [==============================] - 1s 727us/step - loss: 0.3684 - accuracy: 0.8982\n",
      "Epoch 8/12\n",
      "1050/1050 [==============================] - 1s 713us/step - loss: 0.3586 - accuracy: 0.9007\n",
      "Epoch 9/12\n",
      "1050/1050 [==============================] - 1s 715us/step - loss: 0.3506 - accuracy: 0.9027\n",
      "Epoch 10/12\n",
      "1050/1050 [==============================] - 1s 714us/step - loss: 0.3440 - accuracy: 0.9047\n",
      "Epoch 11/12\n",
      "1050/1050 [==============================] - 1s 711us/step - loss: 0.3382 - accuracy: 0.9062\n",
      "Epoch 12/12\n",
      "1050/1050 [==============================] - 1s 714us/step - loss: 0.3332 - accuracy: 0.9069\n",
      "Model: \"sequential\"\n",
      "_________________________________________________________________\n",
      " Layer (type)                Output Shape              Param #   \n",
      "=================================================================\n",
      " dense (Dense)               (32, 10)                  7850      \n",
      "                                                                 \n",
      " activation (Activation)     (32, 10)                  0         \n",
      "                                                                 \n",
      "=================================================================\n",
      "Total params: 7,850\n",
      "Trainable params: 7,850\n",
      "Non-trainable params: 0\n",
      "_________________________________________________________________\n",
      "\n",
      "time taken 9.667016744613647 seconds\n"
     ]
    }
   ],
   "source": [
    "from keras.models import Sequential\n",
    "from keras.layers import Dense, Activation\n",
    "\n",
    "start = time()\n",
    "\n",
    "model = Sequential()\n",
    "model.add(Dense(10))\n",
    "model.add(Activation(\"softmax\"))\n",
    "\n",
    "model.compile(loss='categorical_crossentropy', optimizer='sgd', metrics=['accuracy'])\n",
    "\n",
    "model.fit(X_train, y_train_onehot, epochs=12)\n",
    "\n",
    "model.summary()\n",
    "\n",
    "print('\\ntime taken %s seconds' % str(time() - start))"
   ]
  },
  {
   "cell_type": "code",
   "execution_count": 8,
   "metadata": {},
   "outputs": [
    {
     "name": "stdout",
     "output_type": "stream",
     "text": [
      "263/263 [==============================] - 0s 560us/step\n",
      "\n",
      "accuracy 0.909047619047619\n"
     ]
    }
   ],
   "source": [
    "y_prediction = np.argmax(model.predict(X_test), axis=-1)\n",
    "print(\"\\naccuracy\", np.sum(y_prediction == y_test) / float(len(y_test)))"
   ]
  },
  {
   "cell_type": "markdown",
   "metadata": {},
   "source": [
    "## 2-layer Neural Network"
   ]
  },
  {
   "cell_type": "code",
   "execution_count": 9,
   "metadata": {},
   "outputs": [
    {
     "name": "stdout",
     "output_type": "stream",
     "text": [
      "Epoch 1/12\n",
      "1050/1050 [==============================] - 1s 1ms/step - loss: 0.7052 - accuracy: 0.8178\n",
      "Epoch 2/12\n",
      "1050/1050 [==============================] - 1s 999us/step - loss: 0.3979 - accuracy: 0.8877\n",
      "Epoch 3/12\n",
      "1050/1050 [==============================] - 1s 995us/step - loss: 0.3534 - accuracy: 0.8993\n",
      "Epoch 4/12\n",
      "1050/1050 [==============================] - 1s 999us/step - loss: 0.3312 - accuracy: 0.9051\n",
      "Epoch 5/12\n",
      "1050/1050 [==============================] - 1s 1ms/step - loss: 0.3170 - accuracy: 0.9093\n",
      "Epoch 6/12\n",
      "1050/1050 [==============================] - 1s 1ms/step - loss: 0.3072 - accuracy: 0.9117\n",
      "Epoch 7/12\n",
      "1050/1050 [==============================] - 1s 1ms/step - loss: 0.3000 - accuracy: 0.9153\n",
      "Epoch 8/12\n",
      "1050/1050 [==============================] - 1s 1ms/step - loss: 0.2937 - accuracy: 0.9165\n",
      "Epoch 9/12\n",
      "1050/1050 [==============================] - 1s 1ms/step - loss: 0.2889 - accuracy: 0.9182\n",
      "Epoch 10/12\n",
      "1050/1050 [==============================] - 1s 1ms/step - loss: 0.2847 - accuracy: 0.9182\n",
      "Epoch 11/12\n",
      "1050/1050 [==============================] - 1s 1ms/step - loss: 0.2813 - accuracy: 0.9211\n",
      "Epoch 12/12\n",
      "1050/1050 [==============================] - 1s 1ms/step - loss: 0.2778 - accuracy: 0.9212\n",
      "Model: \"sequential_1\"\n",
      "_________________________________________________________________\n",
      " Layer (type)                Output Shape              Param #   \n",
      "=================================================================\n",
      " dense_1 (Dense)             (32, 100)                 78500     \n",
      "                                                                 \n",
      " dense_2 (Dense)             (32, 10)                  1010      \n",
      "                                                                 \n",
      " activation_1 (Activation)   (32, 10)                  0         \n",
      "                                                                 \n",
      "=================================================================\n",
      "Total params: 79,510\n",
      "Trainable params: 79,510\n",
      "Non-trainable params: 0\n",
      "_________________________________________________________________\n",
      "\n",
      "time taken 13.243598699569702 seconds\n"
     ]
    }
   ],
   "source": [
    "start = time()\n",
    "\n",
    "model = Sequential()\n",
    "model.add(Dense(100))\n",
    "model.add(Dense(10))\n",
    "model.add(Activation(\"softmax\"))\n",
    "\n",
    "model.compile(loss='categorical_crossentropy', optimizer='sgd', metrics=['accuracy'])\n",
    "\n",
    "model.fit(X_train, y_train_onehot, epochs=12)\n",
    "\n",
    "model.summary()\n",
    "\n",
    "print('\\ntime taken %s seconds' % str(time() - start))"
   ]
  },
  {
   "cell_type": "code",
   "execution_count": 10,
   "metadata": {},
   "outputs": [
    {
     "name": "stdout",
     "output_type": "stream",
     "text": [
      "263/263 [==============================] - 0s 765us/step\n",
      "\n",
      "accuracy 0.9204761904761904\n"
     ]
    }
   ],
   "source": [
    "y_prediction = np.argmax(model.predict(X_test), axis=-1)\n",
    "print(\"\\naccuracy\", np.sum(y_prediction == y_test) / float(len(y_test)))"
   ]
  },
  {
   "cell_type": "markdown",
   "metadata": {},
   "source": [
    "## 3-layer Neural Network"
   ]
  },
  {
   "cell_type": "code",
   "execution_count": 11,
   "metadata": {},
   "outputs": [
    {
     "name": "stdout",
     "output_type": "stream",
     "text": [
      "Epoch 1/12\n",
      "1050/1050 [==============================] - 1s 1ms/step - loss: 0.6318 - accuracy: 0.8294\n",
      "Epoch 2/12\n",
      "1050/1050 [==============================] - 1s 1ms/step - loss: 0.3598 - accuracy: 0.8961\n",
      "Epoch 3/12\n",
      "1050/1050 [==============================] - 1s 1ms/step - loss: 0.3256 - accuracy: 0.9061\n",
      "Epoch 4/12\n",
      "1050/1050 [==============================] - 1s 1ms/step - loss: 0.3080 - accuracy: 0.9110\n",
      "Epoch 5/12\n",
      "1050/1050 [==============================] - 1s 1ms/step - loss: 0.2976 - accuracy: 0.9146\n",
      "Epoch 6/12\n",
      "1050/1050 [==============================] - 1s 1ms/step - loss: 0.2893 - accuracy: 0.9176\n",
      "Epoch 7/12\n",
      "1050/1050 [==============================] - 1s 1ms/step - loss: 0.2827 - accuracy: 0.9187\n",
      "Epoch 8/12\n",
      "1050/1050 [==============================] - 1s 1ms/step - loss: 0.2788 - accuracy: 0.9202\n",
      "Epoch 9/12\n",
      "1050/1050 [==============================] - 1s 1ms/step - loss: 0.2744 - accuracy: 0.9222\n",
      "Epoch 10/12\n",
      "1050/1050 [==============================] - 1s 1ms/step - loss: 0.2709 - accuracy: 0.9222\n",
      "Epoch 11/12\n",
      "1050/1050 [==============================] - 1s 1ms/step - loss: 0.2677 - accuracy: 0.9241\n",
      "Epoch 12/12\n",
      "1050/1050 [==============================] - 1s 1ms/step - loss: 0.2649 - accuracy: 0.9251\n",
      "Model: \"sequential_2\"\n",
      "_________________________________________________________________\n",
      " Layer (type)                Output Shape              Param #   \n",
      "=================================================================\n",
      " dense_3 (Dense)             (32, 100)                 78500     \n",
      "                                                                 \n",
      " dense_4 (Dense)             (32, 100)                 10100     \n",
      "                                                                 \n",
      " dense_5 (Dense)             (32, 10)                  1010      \n",
      "                                                                 \n",
      " activation_2 (Activation)   (32, 10)                  0         \n",
      "                                                                 \n",
      "=================================================================\n",
      "Total params: 89,610\n",
      "Trainable params: 89,610\n",
      "Non-trainable params: 0\n",
      "_________________________________________________________________\n",
      "\n",
      "time taken 13.777081727981567 seconds\n"
     ]
    }
   ],
   "source": [
    "start = time()\n",
    "\n",
    "model = Sequential()\n",
    "model.add(Dense(100))\n",
    "model.add(Dense(100))\n",
    "model.add(Dense(10))\n",
    "model.add(Activation(\"softmax\"))\n",
    "\n",
    "model.compile(loss='categorical_crossentropy', optimizer='sgd', metrics=['accuracy'])\n",
    "\n",
    "model.fit(X_train, y_train_onehot, epochs=12)\n",
    "\n",
    "model.summary()\n",
    "\n",
    "print('\\ntime taken %s seconds' % str(time() - start))"
   ]
  },
  {
   "cell_type": "code",
   "execution_count": 12,
   "metadata": {},
   "outputs": [
    {
     "name": "stdout",
     "output_type": "stream",
     "text": [
      "263/263 [==============================] - 0s 735us/step\n",
      "\n",
      "accuracy 0.9204761904761904\n"
     ]
    }
   ],
   "source": [
    "y_prediction = np.argmax(model.predict(X_test), axis=-1)\n",
    "print(\"\\naccuracy\", np.sum(y_prediction == y_test) / float(len(y_test)))"
   ]
  },
  {
   "cell_type": "markdown",
   "metadata": {},
   "source": [
    "As in the previous section, we were able to drive loss down even further with additional layers. While we see improvements in accuracy, it's still not enough to beat the benchmark. We'll look into more advanced techniques to enhance model performance in next section."
   ]
  }
 ],
 "metadata": {
  "kernelspec": {
   "display_name": "Python 3 (ipykernel)",
   "language": "python",
   "name": "python3"
  },
  "language_info": {
   "codemirror_mode": {
    "name": "ipython",
    "version": 3
   },
   "file_extension": ".py",
   "mimetype": "text/x-python",
   "name": "python",
   "nbconvert_exporter": "python",
   "pygments_lexer": "ipython3",
   "version": "3.11.1"
  }
 },
 "nbformat": 4,
 "nbformat_minor": 4
}
